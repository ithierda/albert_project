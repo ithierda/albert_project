{
 "cells": [
  {
   "cell_type": "code",
   "execution_count": 17,
   "id": "926332b5",
   "metadata": {},
   "outputs": [
    {
     "name": "stdout",
     "output_type": "stream",
     "text": [
      "Weather in Monaco:\n",
      "Main: Clouds\n",
      "Description: few clouds\n",
      "Temperature: 290.81 Kelvin\n",
      "Pressure: 1015 hPa\n",
      "Humidity: 72%\n"
     ]
    }
   ],
   "source": [
    "import requests\n",
    "def get_weather(api_key, city):\n",
    "    \"\"\"\n",
    "    Fetches weather data for a specified city using the OpenWeatherMap API.\n",
    "\n",
    "    Parameters:\n",
    "    - api_key: str, your API key for the OpenWeatherMap API.\n",
    "    - city: str, the city's name for which you want to fetch the weather data.\n",
    "\n",
    "    Returns:\n",
    "    - A dictionary containing the weather data for the specified city.\n",
    "    \"\"\"\n",
    "    # Base URL of the OpenWeatherMap API\n",
    "    base_url = \"http://api.openweathermap.org/data/2.5/weather?\"\n",
    "\n",
    "    # Complete URL with the city and API key\n",
    "    complete_url = f\"{base_url}q={city}&appid={api_key}\"\n",
    "\n",
    "    # Sending the HTTP request\n",
    "    response = requests.get(complete_url)\n",
    "\n",
    "    # Checking if the request was successful (status code 200)\n",
    "    if response.status_code == 200:\n",
    "        # Parsing the response to JSON format\n",
    "        weather_data = response.json()\n",
    "        return weather_data\n",
    "    else:\n",
    "        return None\n",
    "\n",
    "# Example usage\n",
    "api_key = \"4a12d79c60154473d962331833030f88\"\n",
    "city = \"Monaco\"\n",
    "weather = get_weather(api_key, city)\n",
    "\n",
    "if weather:\n",
    "    # Example of extracting and printing a few pieces of data\n",
    "    print(f\"Weather in {city}:\")\n",
    "    print(f\"Main: {weather['weather'][0]['main']}\")\n",
    "    print(f\"Description: {weather['weather'][0]['description']}\")\n",
    "    print(f\"Temperature: {weather['main']['temp']} Kelvin\")\n",
    "    print(f\"Pressure: {weather['main']['pressure']} hPa\")\n",
    "    print(f\"Humidity: {weather['main']['humidity']}%\")\n",
    "else:\n",
    "    print(\"Failed to retrieve the weather data.\")\n"
   ]
  }
 ],
 "metadata": {
  "kernelspec": {
   "display_name": "Python 3 (ipykernel)",
   "language": "python",
   "name": "python3"
  },
  "language_info": {
   "codemirror_mode": {
    "name": "ipython",
    "version": 3
   },
   "file_extension": ".py",
   "mimetype": "text/x-python",
   "name": "python",
   "nbconvert_exporter": "python",
   "pygments_lexer": "ipython3",
   "version": "3.10.6"
  },
  "toc": {
   "base_numbering": 1,
   "nav_menu": {},
   "number_sections": true,
   "sideBar": true,
   "skip_h1_title": false,
   "title_cell": "Table of Contents",
   "title_sidebar": "Contents",
   "toc_cell": false,
   "toc_position": {},
   "toc_section_display": true,
   "toc_window_display": false
  }
 },
 "nbformat": 4,
 "nbformat_minor": 5
}
